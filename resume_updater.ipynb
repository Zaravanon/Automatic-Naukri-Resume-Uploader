{
 "cells": [
  {
   "cell_type": "code",
   "execution_count": 1,
   "metadata": {},
   "outputs": [],
   "source": [
    "from selenium import webdriver \n",
    "import os\n",
    "from datetime import date\n",
    "from selenium.webdriver.common.action_chains import ActionChains\n",
    "from webdriver_manager.chrome import ChromeDriverManager\n",
    "from selenium.webdriver.firefox.firefox_binary import FirefoxBinary\n",
    "import geckodriver_autoinstaller"
   ]
  },
  {
   "cell_type": "code",
   "execution_count": 2,
   "metadata": {},
   "outputs": [],
   "source": [
    "url = \"https://www.naukri.com/mnjuser/homepage\"\n",
    "driver = webdriver.Firefox(executable_path=r'C:\\Users\\Saravanan\\Documents\\Resume\\geckodriver.exe')\n",
    "driver.get(url)"
   ]
  },
  {
   "cell_type": "code",
   "execution_count": 4,
   "metadata": {},
   "outputs": [],
   "source": [
    "user_name = driver.find_element_by_id('usernameField')\n",
    "user_name.clear()\n",
    "user_name.send_keys('Saravenun@gmail.com')\n",
    "password = driver.find_element_by_id('passwordField')\n",
    "password.click()\n",
    "password.send_keys('7639008521')\n",
    "driver.find_element_by_xpath('//button').click()\n",
    "driver.implicitly_wait(10)"
   ]
  },
  {
   "cell_type": "code",
   "execution_count": 5,
   "metadata": {},
   "outputs": [],
   "source": [
    "profile = driver.find_element_by_xpath(\"//div[@title='Saravanan']\")\n",
    "profile.click()\n",
    "driver.implicitly_wait(10)"
   ]
  },
  {
   "cell_type": "code",
   "execution_count": 6,
   "metadata": {},
   "outputs": [
    {
     "data": {
      "text/plain": [
       "'18/08/2021'"
      ]
     },
     "execution_count": 6,
     "metadata": {},
     "output_type": "execute_result"
    }
   ],
   "source": [
    "even_filepath = r\"C:\\Users\\Saravanan\\Documents\\Resume\\Saravanan-Resume even.docx\"\n",
    "odd_filepath = r\"C:\\Users\\Saravanan\\Documents\\Resume\\Saravanan-Resume odd.docx\"\n",
    "today = date.today().strftime(\"%d/%m/%Y\")\n",
    "today"
   ]
  },
  {
   "cell_type": "code",
   "execution_count": 7,
   "metadata": {},
   "outputs": [],
   "source": [
    "date = int(int(str(today)[:2]))\n",
    "type(date)\n",
    "mode = 0o666\n",
    "flags = os.O_RDWR | os.O_CREAT "
   ]
  },
  {
   "cell_type": "code",
   "execution_count": 8,
   "metadata": {},
   "outputs": [],
   "source": [
    "if date%2 == 0:    \n",
    "    button = driver.find_element_by_class_name(u\"uploadBtn\")\n",
    "    driver.implicitly_wait(10)\n",
    "    ActionChains(driver).move_to_element(button).click(button).send_keys(even_filepath)\n",
    "else:\n",
    "    button = driver.find_element_by_class_name(u\"uploadBtn\")\n",
    "    driver.implicitly_wait(10)\n",
    "    ActionChains(driver).move_to_element(button).click(button).send_keys(odd_filepath)"
   ]
  },
  {
   "cell_type": "code",
   "execution_count": null,
   "metadata": {},
   "outputs": [],
   "source": []
  }
 ],
 "metadata": {
  "kernelspec": {
   "display_name": "Python 3",
   "language": "python",
   "name": "python3"
  },
  "language_info": {
   "codemirror_mode": {
    "name": "ipython",
    "version": 3
   },
   "file_extension": ".py",
   "mimetype": "text/x-python",
   "name": "python",
   "nbconvert_exporter": "python",
   "pygments_lexer": "ipython3",
   "version": "3.8.4"
  }
 },
 "nbformat": 4,
 "nbformat_minor": 4
}
